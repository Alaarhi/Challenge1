{
 "cells": [
  {
   "cell_type": "markdown",
   "metadata": {},
   "source": [
    "# Importing libraries"
   ]
  },
  {
   "cell_type": "code",
   "execution_count": 1,
   "metadata": {},
   "outputs": [
    {
     "name": "stderr",
     "output_type": "stream",
     "text": [
      "Using TensorFlow backend.\n"
     ]
    }
   ],
   "source": [
    "import numpy as np\n",
    "import matplotlib.pyplot as plt\n",
    "import pandas as pd\n",
    "from sklearn.preprocessing import LabelEncoder, OneHotEncoder\n",
    "from sklearn.model_selection import train_test_split\n",
    "from sklearn.preprocessing import StandardScaler\n",
    "from sklearn.metrics import confusion_matrix\n",
    "\n",
    "\n",
    "# Importing the Keras libraries and packages\n",
    "import keras\n",
    "from keras.models import Sequential\n",
    "from keras.layers import Dense\n",
    "\n"
   ]
  },
  {
   "cell_type": "markdown",
   "metadata": {},
   "source": [
    "#  Preprocessing data"
   ]
  },
  {
   "cell_type": "code",
   "execution_count": 2,
   "metadata": {},
   "outputs": [
    {
     "data": {
      "text/html": [
       "<div>\n",
       "<style scoped>\n",
       "    .dataframe tbody tr th:only-of-type {\n",
       "        vertical-align: middle;\n",
       "    }\n",
       "\n",
       "    .dataframe tbody tr th {\n",
       "        vertical-align: top;\n",
       "    }\n",
       "\n",
       "    .dataframe thead th {\n",
       "        text-align: right;\n",
       "    }\n",
       "</style>\n",
       "<table border=\"1\" class=\"dataframe\">\n",
       "  <thead>\n",
       "    <tr style=\"text-align: right;\">\n",
       "      <th></th>\n",
       "      <th>buying</th>\n",
       "      <th>maint</th>\n",
       "      <th>doors</th>\n",
       "      <th>persons</th>\n",
       "      <th>lug_boot</th>\n",
       "      <th>safety</th>\n",
       "      <th>class</th>\n",
       "    </tr>\n",
       "  </thead>\n",
       "  <tbody>\n",
       "    <tr>\n",
       "      <th>0</th>\n",
       "      <td>vhigh</td>\n",
       "      <td>vhigh</td>\n",
       "      <td>2</td>\n",
       "      <td>2</td>\n",
       "      <td>small</td>\n",
       "      <td>low</td>\n",
       "      <td>unacc</td>\n",
       "    </tr>\n",
       "    <tr>\n",
       "      <th>1</th>\n",
       "      <td>vhigh</td>\n",
       "      <td>vhigh</td>\n",
       "      <td>2</td>\n",
       "      <td>2</td>\n",
       "      <td>small</td>\n",
       "      <td>med</td>\n",
       "      <td>unacc</td>\n",
       "    </tr>\n",
       "    <tr>\n",
       "      <th>2</th>\n",
       "      <td>vhigh</td>\n",
       "      <td>vhigh</td>\n",
       "      <td>2</td>\n",
       "      <td>2</td>\n",
       "      <td>small</td>\n",
       "      <td>high</td>\n",
       "      <td>unacc</td>\n",
       "    </tr>\n",
       "    <tr>\n",
       "      <th>3</th>\n",
       "      <td>vhigh</td>\n",
       "      <td>vhigh</td>\n",
       "      <td>2</td>\n",
       "      <td>2</td>\n",
       "      <td>med</td>\n",
       "      <td>low</td>\n",
       "      <td>unacc</td>\n",
       "    </tr>\n",
       "    <tr>\n",
       "      <th>4</th>\n",
       "      <td>vhigh</td>\n",
       "      <td>vhigh</td>\n",
       "      <td>2</td>\n",
       "      <td>2</td>\n",
       "      <td>med</td>\n",
       "      <td>med</td>\n",
       "      <td>unacc</td>\n",
       "    </tr>\n",
       "  </tbody>\n",
       "</table>\n",
       "</div>"
      ],
      "text/plain": [
       "  buying  maint doors persons lug_boot safety  class\n",
       "0  vhigh  vhigh     2       2    small    low  unacc\n",
       "1  vhigh  vhigh     2       2    small    med  unacc\n",
       "2  vhigh  vhigh     2       2    small   high  unacc\n",
       "3  vhigh  vhigh     2       2      med    low  unacc\n",
       "4  vhigh  vhigh     2       2      med    med  unacc"
      ]
     },
     "execution_count": 2,
     "metadata": {},
     "output_type": "execute_result"
    }
   ],
   "source": [
    "# Importing the dataset using pandas\n",
    "cars = pd.read_csv('car.csv')\n",
    "cars.head()\n"
   ]
  },
  {
   "cell_type": "code",
   "execution_count": 3,
   "metadata": {},
   "outputs": [
    {
     "data": {
      "text/html": [
       "<div>\n",
       "<style scoped>\n",
       "    .dataframe tbody tr th:only-of-type {\n",
       "        vertical-align: middle;\n",
       "    }\n",
       "\n",
       "    .dataframe tbody tr th {\n",
       "        vertical-align: top;\n",
       "    }\n",
       "\n",
       "    .dataframe thead th {\n",
       "        text-align: right;\n",
       "    }\n",
       "</style>\n",
       "<table border=\"1\" class=\"dataframe\">\n",
       "  <thead>\n",
       "    <tr style=\"text-align: right;\">\n",
       "      <th></th>\n",
       "      <th>buying</th>\n",
       "      <th>maint</th>\n",
       "      <th>doors</th>\n",
       "      <th>persons</th>\n",
       "      <th>lug_boot</th>\n",
       "      <th>safety</th>\n",
       "      <th>class</th>\n",
       "    </tr>\n",
       "  </thead>\n",
       "  <tbody>\n",
       "    <tr>\n",
       "      <th>0</th>\n",
       "      <td>vhigh</td>\n",
       "      <td>vhigh</td>\n",
       "      <td>2</td>\n",
       "      <td>2</td>\n",
       "      <td>small</td>\n",
       "      <td>low</td>\n",
       "      <td>unacc</td>\n",
       "    </tr>\n",
       "    <tr>\n",
       "      <th>1</th>\n",
       "      <td>vhigh</td>\n",
       "      <td>vhigh</td>\n",
       "      <td>2</td>\n",
       "      <td>2</td>\n",
       "      <td>small</td>\n",
       "      <td>med</td>\n",
       "      <td>unacc</td>\n",
       "    </tr>\n",
       "    <tr>\n",
       "      <th>2</th>\n",
       "      <td>vhigh</td>\n",
       "      <td>vhigh</td>\n",
       "      <td>2</td>\n",
       "      <td>2</td>\n",
       "      <td>small</td>\n",
       "      <td>high</td>\n",
       "      <td>unacc</td>\n",
       "    </tr>\n",
       "    <tr>\n",
       "      <th>3</th>\n",
       "      <td>vhigh</td>\n",
       "      <td>vhigh</td>\n",
       "      <td>2</td>\n",
       "      <td>2</td>\n",
       "      <td>med</td>\n",
       "      <td>low</td>\n",
       "      <td>unacc</td>\n",
       "    </tr>\n",
       "    <tr>\n",
       "      <th>4</th>\n",
       "      <td>vhigh</td>\n",
       "      <td>vhigh</td>\n",
       "      <td>2</td>\n",
       "      <td>2</td>\n",
       "      <td>med</td>\n",
       "      <td>med</td>\n",
       "      <td>unacc</td>\n",
       "    </tr>\n",
       "  </tbody>\n",
       "</table>\n",
       "</div>"
      ],
      "text/plain": [
       "  buying  maint doors persons lug_boot safety  class\n",
       "0  vhigh  vhigh     2       2    small    low  unacc\n",
       "1  vhigh  vhigh     2       2    small    med  unacc\n",
       "2  vhigh  vhigh     2       2    small   high  unacc\n",
       "3  vhigh  vhigh     2       2      med    low  unacc\n",
       "4  vhigh  vhigh     2       2      med    med  unacc"
      ]
     },
     "execution_count": 3,
     "metadata": {},
     "output_type": "execute_result"
    }
   ],
   "source": [
    "# Create matrix of features and matrix of target variable.\n",
    "X = cars.iloc[:, 0:6].values\n",
    "y = cars.iloc[:, 6:7].values \n",
    "cars.head()"
   ]
  },
  {
   "cell_type": "markdown",
   "metadata": {},
   "source": [
    "# Encoding data"
   ]
  },
  {
   "cell_type": "code",
   "execution_count": 4,
   "metadata": {},
   "outputs": [
    {
     "data": {
      "text/plain": [
       "array([[2],\n",
       "       [2],\n",
       "       [2],\n",
       "       ..., \n",
       "       [2],\n",
       "       [1],\n",
       "       [3]], dtype=object)"
      ]
     },
     "execution_count": 4,
     "metadata": {},
     "output_type": "execute_result"
    }
   ],
   "source": [
    "labelencoder_X_0 = LabelEncoder()\n",
    "X[:, 0] = labelencoder_X_0.fit_transform(X[:, 0])\n",
    "labelencoder_X_1 = LabelEncoder()\n",
    "X[:, 1] = labelencoder_X_1.fit_transform(X[:, 1])\n",
    "labelencoder_X_2 = LabelEncoder()\n",
    "X[:, 2] = labelencoder_X_2.fit_transform(X[:, 2])\n",
    "labelencoder_X_3 = LabelEncoder()\n",
    "X[:, 3] = labelencoder_X_3.fit_transform(X[:, 3])\n",
    "labelencoder_X_4 = LabelEncoder()\n",
    "X[:, 4] = labelencoder_X_4.fit_transform(X[:, 4])\n",
    "labelencoder_X_5 = LabelEncoder()\n",
    "X[:, 5] = labelencoder_X_5.fit_transform(X[:, 5])\n",
    "\n",
    "labelencoder_y_0 = LabelEncoder()\n",
    "y[:,0] = labelencoder_y_0.fit_transform(y[:,0])\n",
    "\n",
    "y[:]"
   ]
  },
  {
   "cell_type": "code",
   "execution_count": 5,
   "metadata": {},
   "outputs": [
    {
     "data": {
      "text/html": [
       "<div>\n",
       "<style scoped>\n",
       "    .dataframe tbody tr th:only-of-type {\n",
       "        vertical-align: middle;\n",
       "    }\n",
       "\n",
       "    .dataframe tbody tr th {\n",
       "        vertical-align: top;\n",
       "    }\n",
       "\n",
       "    .dataframe thead th {\n",
       "        text-align: right;\n",
       "    }\n",
       "</style>\n",
       "<table border=\"1\" class=\"dataframe\">\n",
       "  <thead>\n",
       "    <tr style=\"text-align: right;\">\n",
       "      <th></th>\n",
       "      <th>buying</th>\n",
       "      <th>maint</th>\n",
       "      <th>doors</th>\n",
       "      <th>persons</th>\n",
       "      <th>lug_boot</th>\n",
       "      <th>safety</th>\n",
       "      <th>class</th>\n",
       "    </tr>\n",
       "  </thead>\n",
       "  <tbody>\n",
       "    <tr>\n",
       "      <th>0</th>\n",
       "      <td>3</td>\n",
       "      <td>3</td>\n",
       "      <td>0</td>\n",
       "      <td>0</td>\n",
       "      <td>2</td>\n",
       "      <td>1</td>\n",
       "      <td>2</td>\n",
       "    </tr>\n",
       "    <tr>\n",
       "      <th>1</th>\n",
       "      <td>3</td>\n",
       "      <td>3</td>\n",
       "      <td>0</td>\n",
       "      <td>0</td>\n",
       "      <td>2</td>\n",
       "      <td>2</td>\n",
       "      <td>2</td>\n",
       "    </tr>\n",
       "    <tr>\n",
       "      <th>2</th>\n",
       "      <td>3</td>\n",
       "      <td>3</td>\n",
       "      <td>0</td>\n",
       "      <td>0</td>\n",
       "      <td>2</td>\n",
       "      <td>0</td>\n",
       "      <td>2</td>\n",
       "    </tr>\n",
       "    <tr>\n",
       "      <th>3</th>\n",
       "      <td>3</td>\n",
       "      <td>3</td>\n",
       "      <td>0</td>\n",
       "      <td>0</td>\n",
       "      <td>1</td>\n",
       "      <td>1</td>\n",
       "      <td>2</td>\n",
       "    </tr>\n",
       "    <tr>\n",
       "      <th>4</th>\n",
       "      <td>3</td>\n",
       "      <td>3</td>\n",
       "      <td>0</td>\n",
       "      <td>0</td>\n",
       "      <td>1</td>\n",
       "      <td>2</td>\n",
       "      <td>2</td>\n",
       "    </tr>\n",
       "  </tbody>\n",
       "</table>\n",
       "</div>"
      ],
      "text/plain": [
       "  buying maint doors persons lug_boot safety class\n",
       "0      3     3     0       0        2      1     2\n",
       "1      3     3     0       0        2      2     2\n",
       "2      3     3     0       0        2      0     2\n",
       "3      3     3     0       0        1      1     2\n",
       "4      3     3     0       0        1      2     2"
      ]
     },
     "execution_count": 5,
     "metadata": {},
     "output_type": "execute_result"
    }
   ],
   "source": [
    "cars.head()"
   ]
  },
  {
   "cell_type": "code",
   "execution_count": 6,
   "metadata": {},
   "outputs": [],
   "source": [
    "onehotencoder = OneHotEncoder(categorical_features = \"all\")\n",
    "X = onehotencoder.fit_transform(X).toarray()\n",
    "\n",
    "onehotencoder = OneHotEncoder(categorical_features = \"all\")\n",
    "y = onehotencoder.fit_transform(y).toarray()"
   ]
  },
  {
   "cell_type": "code",
   "execution_count": 7,
   "metadata": {},
   "outputs": [
    {
     "data": {
      "text/html": [
       "<div>\n",
       "<style scoped>\n",
       "    .dataframe tbody tr th:only-of-type {\n",
       "        vertical-align: middle;\n",
       "    }\n",
       "\n",
       "    .dataframe tbody tr th {\n",
       "        vertical-align: top;\n",
       "    }\n",
       "\n",
       "    .dataframe thead th {\n",
       "        text-align: right;\n",
       "    }\n",
       "</style>\n",
       "<table border=\"1\" class=\"dataframe\">\n",
       "  <thead>\n",
       "    <tr style=\"text-align: right;\">\n",
       "      <th></th>\n",
       "      <th>buying</th>\n",
       "      <th>maint</th>\n",
       "      <th>doors</th>\n",
       "      <th>persons</th>\n",
       "      <th>lug_boot</th>\n",
       "      <th>safety</th>\n",
       "      <th>class</th>\n",
       "    </tr>\n",
       "  </thead>\n",
       "  <tbody>\n",
       "    <tr>\n",
       "      <th>0</th>\n",
       "      <td>3</td>\n",
       "      <td>3</td>\n",
       "      <td>0</td>\n",
       "      <td>0</td>\n",
       "      <td>2</td>\n",
       "      <td>1</td>\n",
       "      <td>2</td>\n",
       "    </tr>\n",
       "    <tr>\n",
       "      <th>1</th>\n",
       "      <td>3</td>\n",
       "      <td>3</td>\n",
       "      <td>0</td>\n",
       "      <td>0</td>\n",
       "      <td>2</td>\n",
       "      <td>2</td>\n",
       "      <td>2</td>\n",
       "    </tr>\n",
       "    <tr>\n",
       "      <th>2</th>\n",
       "      <td>3</td>\n",
       "      <td>3</td>\n",
       "      <td>0</td>\n",
       "      <td>0</td>\n",
       "      <td>2</td>\n",
       "      <td>0</td>\n",
       "      <td>2</td>\n",
       "    </tr>\n",
       "    <tr>\n",
       "      <th>3</th>\n",
       "      <td>3</td>\n",
       "      <td>3</td>\n",
       "      <td>0</td>\n",
       "      <td>0</td>\n",
       "      <td>1</td>\n",
       "      <td>1</td>\n",
       "      <td>2</td>\n",
       "    </tr>\n",
       "    <tr>\n",
       "      <th>4</th>\n",
       "      <td>3</td>\n",
       "      <td>3</td>\n",
       "      <td>0</td>\n",
       "      <td>0</td>\n",
       "      <td>1</td>\n",
       "      <td>2</td>\n",
       "      <td>2</td>\n",
       "    </tr>\n",
       "  </tbody>\n",
       "</table>\n",
       "</div>"
      ],
      "text/plain": [
       "  buying maint doors persons lug_boot safety class\n",
       "0      3     3     0       0        2      1     2\n",
       "1      3     3     0       0        2      2     2\n",
       "2      3     3     0       0        2      0     2\n",
       "3      3     3     0       0        1      1     2\n",
       "4      3     3     0       0        1      2     2"
      ]
     },
     "execution_count": 7,
     "metadata": {},
     "output_type": "execute_result"
    }
   ],
   "source": [
    "cars.head()"
   ]
  },
  {
   "cell_type": "code",
   "execution_count": 8,
   "metadata": {},
   "outputs": [],
   "source": [
    "# Splitting the dataset into the Training set and Test set\n",
    "X_train, X_test, y_train, y_test = train_test_split(X, y, test_size = 0.2)"
   ]
  },
  {
   "cell_type": "code",
   "execution_count": 9,
   "metadata": {},
   "outputs": [],
   "source": [
    "# Feature Scaling\n",
    "sc = StandardScaler()\n",
    "X_train = sc.fit_transform(X_train)\n",
    "X_test = sc.transform(X_test)"
   ]
  },
  {
   "cell_type": "markdown",
   "metadata": {},
   "source": [
    "# Creating NN and training it"
   ]
  },
  {
   "cell_type": "code",
   "execution_count": 10,
   "metadata": {},
   "outputs": [
    {
     "name": "stderr",
     "output_type": "stream",
     "text": [
      "C:\\Users\\alaa\\Anaconda3\\envs\\DL\\lib\\site-packages\\ipykernel_launcher.py:4: UserWarning: Update your `Dense` call to the Keras 2 API: `Dense(activation=\"relu\", input_dim=21, units=6, kernel_initializer=\"uniform\")`\n",
      "  after removing the cwd from sys.path.\n",
      "C:\\Users\\alaa\\Anaconda3\\envs\\DL\\lib\\site-packages\\ipykernel_launcher.py:6: UserWarning: Update your `Dense` call to the Keras 2 API: `Dense(activation=\"relu\", units=10, kernel_initializer=\"uniform\")`\n",
      "  \n",
      "C:\\Users\\alaa\\Anaconda3\\envs\\DL\\lib\\site-packages\\ipykernel_launcher.py:8: UserWarning: Update your `Dense` call to the Keras 2 API: `Dense(activation=\"softmax\", units=4, kernel_initializer=\"uniform\")`\n",
      "  \n"
     ]
    }
   ],
   "source": [
    "#Initializing Neural Network\n",
    "classifier = Sequential()\n",
    "# Adding the input layer and the first hidden layer\n",
    "classifier.add(Dense(output_dim = 6, init = 'uniform', activation = 'relu', input_dim = 21))\n",
    "# Adding the second hidden layer\n",
    "classifier.add(Dense(output_dim = 10, init = 'uniform', activation = 'relu'))\n",
    "# Adding the output layer\n",
    "classifier.add(Dense(output_dim = 4, init = 'uniform', activation = 'softmax'))"
   ]
  },
  {
   "cell_type": "code",
   "execution_count": 11,
   "metadata": {},
   "outputs": [],
   "source": [
    "# Compiling Neural Network\n",
    "classifier.compile(optimizer = 'adam', loss = 'binary_crossentropy', metrics = ['accuracy'])"
   ]
  },
  {
   "cell_type": "code",
   "execution_count": 12,
   "metadata": {
    "scrolled": true
   },
   "outputs": [
    {
     "name": "stdout",
     "output_type": "stream",
     "text": [
      "Epoch 1/100\n",
      "1382/1382 [==============================] - 2s 1ms/step - loss: 0.4830 - acc: 0.7784\n",
      "Epoch 2/100\n",
      "1382/1382 [==============================] - 0s 117us/step - loss: 0.2632 - acc: 0.8924\n",
      "Epoch 3/100\n",
      "1382/1382 [==============================] - 0s 116us/step - loss: 0.2175 - acc: 0.9092\n",
      "Epoch 4/100\n",
      "1382/1382 [==============================] - 0s 115us/step - loss: 0.1927 - acc: 0.9159\n",
      "Epoch 5/100\n",
      "1382/1382 [==============================] - 0s 110us/step - loss: 0.1770 - acc: 0.9159\n",
      "Epoch 6/100\n",
      "1382/1382 [==============================] - 0s 153us/step - loss: 0.1660 - acc: 0.9175\n",
      "Epoch 7/100\n",
      "1382/1382 [==============================] - 0s 126us/step - loss: 0.1573 - acc: 0.9181\n",
      "Epoch 8/100\n",
      "1382/1382 [==============================] - 0s 138us/step - loss: 0.1502 - acc: 0.9181\n",
      "Epoch 9/100\n",
      "1382/1382 [==============================] - 0s 128us/step - loss: 0.1426 - acc: 0.9285\n",
      "Epoch 10/100\n",
      "1382/1382 [==============================] - 0s 118us/step - loss: 0.1356 - acc: 0.9584\n",
      "Epoch 11/100\n",
      "1382/1382 [==============================] - 0s 144us/step - loss: 0.1282 - acc: 0.9541\n",
      "Epoch 12/100\n",
      "1382/1382 [==============================] - 0s 125us/step - loss: 0.1200 - acc: 0.9550\n",
      "Epoch 13/100\n",
      "1382/1382 [==============================] - 0s 115us/step - loss: 0.1121 - acc: 0.9553\n",
      "Epoch 14/100\n",
      "1382/1382 [==============================] - 0s 123us/step - loss: 0.1047 - acc: 0.9560\n",
      "Epoch 15/100\n",
      "1382/1382 [==============================] - 0s 115us/step - loss: 0.0984 - acc: 0.9555\n",
      "Epoch 16/100\n",
      "1382/1382 [==============================] - 0s 118us/step - loss: 0.0929 - acc: 0.9555\n",
      "Epoch 17/100\n",
      "1382/1382 [==============================] - 0s 109us/step - loss: 0.0880 - acc: 0.9569\n",
      "Epoch 18/100\n",
      "1382/1382 [==============================] - 0s 144us/step - loss: 0.0840 - acc: 0.9562\n",
      "Epoch 19/100\n",
      "1382/1382 [==============================] - 0s 137us/step - loss: 0.0803 - acc: 0.9555\n",
      "Epoch 20/100\n",
      "1382/1382 [==============================] - 0s 129us/step - loss: 0.0767 - acc: 0.9727\n",
      "Epoch 21/100\n",
      "1382/1382 [==============================] - 0s 136us/step - loss: 0.0738 - acc: 0.9730\n",
      "Epoch 22/100\n",
      "1382/1382 [==============================] - 0s 202us/step - loss: 0.0717 - acc: 0.9736 0s - loss: 0.0636 - acc: 0\n",
      "Epoch 23/100\n",
      "1382/1382 [==============================] - 0s 107us/step - loss: 0.0687 - acc: 0.9743\n",
      "Epoch 24/100\n",
      "1382/1382 [==============================] - 0s 101us/step - loss: 0.0664 - acc: 0.9747\n",
      "Epoch 25/100\n",
      "1382/1382 [==============================] - 0s 105us/step - loss: 0.0646 - acc: 0.9750\n",
      "Epoch 26/100\n",
      "1382/1382 [==============================] - 0s 146us/step - loss: 0.0627 - acc: 0.9758\n",
      "Epoch 27/100\n",
      "1382/1382 [==============================] - 0s 122us/step - loss: 0.0614 - acc: 0.9747\n",
      "Epoch 28/100\n",
      "1382/1382 [==============================] - 0s 124us/step - loss: 0.0589 - acc: 0.9758\n",
      "Epoch 29/100\n",
      "1382/1382 [==============================] - 0s 119us/step - loss: 0.0580 - acc: 0.9768\n",
      "Epoch 30/100\n",
      "1382/1382 [==============================] - 0s 122us/step - loss: 0.0571 - acc: 0.9767\n",
      "Epoch 31/100\n",
      "1382/1382 [==============================] - 0s 126us/step - loss: 0.0556 - acc: 0.9765\n",
      "Epoch 32/100\n",
      "1382/1382 [==============================] - 0s 117us/step - loss: 0.0547 - acc: 0.9758\n",
      "Epoch 33/100\n",
      "1382/1382 [==============================] - 0s 141us/step - loss: 0.0536 - acc: 0.9770\n",
      "Epoch 34/100\n",
      "1382/1382 [==============================] - 0s 124us/step - loss: 0.0523 - acc: 0.9774\n",
      "Epoch 35/100\n",
      "1382/1382 [==============================] - 0s 139us/step - loss: 0.0516 - acc: 0.9761\n",
      "Epoch 36/100\n",
      "1382/1382 [==============================] - 0s 129us/step - loss: 0.0503 - acc: 0.9765\n",
      "Epoch 37/100\n",
      "1382/1382 [==============================] - 0s 131us/step - loss: 0.0492 - acc: 0.9770\n",
      "Epoch 38/100\n",
      "1382/1382 [==============================] - 0s 137us/step - loss: 0.0486 - acc: 0.9774\n",
      "Epoch 39/100\n",
      "1382/1382 [==============================] - 0s 167us/step - loss: 0.0481 - acc: 0.9776\n",
      "Epoch 40/100\n",
      "1382/1382 [==============================] - 0s 182us/step - loss: 0.0469 - acc: 0.9774\n",
      "Epoch 41/100\n",
      "1382/1382 [==============================] - 0s 136us/step - loss: 0.0468 - acc: 0.9763\n",
      "Epoch 42/100\n",
      "1382/1382 [==============================] - 0s 180us/step - loss: 0.0453 - acc: 0.9783\n",
      "Epoch 43/100\n",
      "1382/1382 [==============================] - 0s 131us/step - loss: 0.0456 - acc: 0.9772\n",
      "Epoch 44/100\n",
      "1382/1382 [==============================] - 0s 171us/step - loss: 0.0452 - acc: 0.9772\n",
      "Epoch 45/100\n",
      "1382/1382 [==============================] - 0s 169us/step - loss: 0.0445 - acc: 0.9779\n",
      "Epoch 46/100\n",
      "1382/1382 [==============================] - 0s 136us/step - loss: 0.0434 - acc: 0.9777\n",
      "Epoch 47/100\n",
      "1382/1382 [==============================] - 0s 123us/step - loss: 0.0437 - acc: 0.9776\n",
      "Epoch 48/100\n",
      "1382/1382 [==============================] - 0s 137us/step - loss: 0.0430 - acc: 0.9776\n",
      "Epoch 49/100\n",
      "1382/1382 [==============================] - 0s 167us/step - loss: 0.0441 - acc: 0.9770\n",
      "Epoch 50/100\n",
      "1382/1382 [==============================] - 0s 165us/step - loss: 0.0426 - acc: 0.9777\n",
      "Epoch 51/100\n",
      "1382/1382 [==============================] - 0s 149us/step - loss: 0.0420 - acc: 0.9776\n",
      "Epoch 52/100\n",
      "1382/1382 [==============================] - 0s 176us/step - loss: 0.0416 - acc: 0.9787\n",
      "Epoch 53/100\n",
      "1382/1382 [==============================] - 0s 155us/step - loss: 0.0410 - acc: 0.9785\n",
      "Epoch 54/100\n",
      "1382/1382 [==============================] - 0s 173us/step - loss: 0.0407 - acc: 0.9790\n",
      "Epoch 55/100\n",
      "1382/1382 [==============================] - 0s 154us/step - loss: 0.0405 - acc: 0.9790\n",
      "Epoch 56/100\n",
      "1382/1382 [==============================] - 0s 124us/step - loss: 0.0406 - acc: 0.9785\n",
      "Epoch 57/100\n",
      "1382/1382 [==============================] - 0s 123us/step - loss: 0.0401 - acc: 0.9787\n",
      "Epoch 58/100\n",
      "1382/1382 [==============================] - 0s 100us/step - loss: 0.0401 - acc: 0.9779\n",
      "Epoch 59/100\n",
      "1382/1382 [==============================] - 0s 110us/step - loss: 0.0391 - acc: 0.9788\n",
      "Epoch 60/100\n",
      "1382/1382 [==============================] - 0s 106us/step - loss: 0.0398 - acc: 0.9781\n",
      "Epoch 61/100\n",
      "1382/1382 [==============================] - 0s 225us/step - loss: 0.0393 - acc: 0.9781\n",
      "Epoch 62/100\n",
      "1382/1382 [==============================] - 0s 125us/step - loss: 0.0393 - acc: 0.9781\n",
      "Epoch 63/100\n",
      "1382/1382 [==============================] - 0s 110us/step - loss: 0.0388 - acc: 0.9783\n",
      "Epoch 64/100\n",
      "1382/1382 [==============================] - 0s 127us/step - loss: 0.0387 - acc: 0.9787\n",
      "Epoch 65/100\n",
      "1382/1382 [==============================] - 0s 142us/step - loss: 0.0387 - acc: 0.9788\n",
      "Epoch 66/100\n",
      "1382/1382 [==============================] - 0s 99us/step - loss: 0.0385 - acc: 0.9785\n",
      "Epoch 67/100\n",
      "1382/1382 [==============================] - 0s 116us/step - loss: 0.0387 - acc: 0.9787\n",
      "Epoch 68/100\n",
      "1382/1382 [==============================] - 0s 117us/step - loss: 0.0378 - acc: 0.9783\n",
      "Epoch 69/100\n",
      "1382/1382 [==============================] - 0s 108us/step - loss: 0.0386 - acc: 0.9785\n",
      "Epoch 70/100\n",
      "1382/1382 [==============================] - 0s 145us/step - loss: 0.0376 - acc: 0.9788\n",
      "Epoch 71/100\n",
      "1382/1382 [==============================] - 0s 137us/step - loss: 0.0369 - acc: 0.9794\n",
      "Epoch 72/100\n",
      "1382/1382 [==============================] - 0s 122us/step - loss: 0.0375 - acc: 0.9787\n",
      "Epoch 73/100\n",
      "1382/1382 [==============================] - 0s 100us/step - loss: 0.0377 - acc: 0.9787\n",
      "Epoch 74/100\n",
      "1382/1382 [==============================] - 0s 99us/step - loss: 0.0375 - acc: 0.9788\n",
      "Epoch 75/100\n",
      "1382/1382 [==============================] - 0s 97us/step - loss: 0.0370 - acc: 0.9788\n",
      "Epoch 76/100\n",
      "1382/1382 [==============================] - 0s 97us/step - loss: 0.0376 - acc: 0.9788\n",
      "Epoch 77/100\n",
      "1382/1382 [==============================] - 0s 102us/step - loss: 0.0371 - acc: 0.9787\n",
      "Epoch 78/100\n",
      "1382/1382 [==============================] - 0s 98us/step - loss: 0.0366 - acc: 0.9788\n",
      "Epoch 79/100\n",
      "1382/1382 [==============================] - 0s 98us/step - loss: 0.0373 - acc: 0.9787\n",
      "Epoch 80/100\n",
      "1382/1382 [==============================] - 0s 95us/step - loss: 0.0361 - acc: 0.9790\n",
      "Epoch 81/100\n",
      "1382/1382 [==============================] - 0s 100us/step - loss: 0.0362 - acc: 0.9790\n",
      "Epoch 82/100\n"
     ]
    },
    {
     "name": "stdout",
     "output_type": "stream",
     "text": [
      "1382/1382 [==============================] - 0s 96us/step - loss: 0.0368 - acc: 0.9792\n",
      "Epoch 83/100\n",
      "1382/1382 [==============================] - 0s 95us/step - loss: 0.0363 - acc: 0.9790\n",
      "Epoch 84/100\n",
      "1382/1382 [==============================] - 0s 104us/step - loss: 0.0358 - acc: 0.9792\n",
      "Epoch 85/100\n",
      "1382/1382 [==============================] - 0s 116us/step - loss: 0.0360 - acc: 0.9790\n",
      "Epoch 86/100\n",
      "1382/1382 [==============================] - 0s 102us/step - loss: 0.0359 - acc: 0.9787\n",
      "Epoch 87/100\n",
      "1382/1382 [==============================] - 0s 100us/step - loss: 0.0360 - acc: 0.9788\n",
      "Epoch 88/100\n",
      "1382/1382 [==============================] - 0s 100us/step - loss: 0.0358 - acc: 0.9787\n",
      "Epoch 89/100\n",
      "1382/1382 [==============================] - 0s 99us/step - loss: 0.0356 - acc: 0.9792\n",
      "Epoch 90/100\n",
      "1382/1382 [==============================] - 0s 106us/step - loss: 0.0358 - acc: 0.9792\n",
      "Epoch 91/100\n",
      "1382/1382 [==============================] - 0s 116us/step - loss: 0.0362 - acc: 0.9788\n",
      "Epoch 92/100\n",
      "1382/1382 [==============================] - 0s 102us/step - loss: 0.0354 - acc: 0.9788\n",
      "Epoch 93/100\n",
      "1382/1382 [==============================] - 0s 97us/step - loss: 0.0346 - acc: 0.9796\n",
      "Epoch 94/100\n",
      "1382/1382 [==============================] - 0s 102us/step - loss: 0.0353 - acc: 0.9790\n",
      "Epoch 95/100\n",
      "1382/1382 [==============================] - 0s 102us/step - loss: 0.0351 - acc: 0.9790\n",
      "Epoch 96/100\n",
      "1382/1382 [==============================] - 0s 102us/step - loss: 0.0347 - acc: 0.9790\n",
      "Epoch 97/100\n",
      "1382/1382 [==============================] - 0s 97us/step - loss: 0.0346 - acc: 0.9792\n",
      "Epoch 98/100\n",
      "1382/1382 [==============================] - 0s 102us/step - loss: 0.0345 - acc: 0.9788\n",
      "Epoch 99/100\n",
      "1382/1382 [==============================] - 0s 101us/step - loss: 0.0347 - acc: 0.9794\n",
      "Epoch 100/100\n",
      "1382/1382 [==============================] - 0s 97us/step - loss: 0.0342 - acc: 0.9788\n"
     ]
    },
    {
     "data": {
      "text/plain": [
       "<keras.callbacks.History at 0x137197b5860>"
      ]
     },
     "execution_count": 12,
     "metadata": {},
     "output_type": "execute_result"
    }
   ],
   "source": [
    "# Fitting our model \n",
    "classifier.fit(X_train, y_train, batch_size = 10, epochs = 100)"
   ]
  },
  {
   "cell_type": "code",
   "execution_count": 13,
   "metadata": {},
   "outputs": [
    {
     "name": "stdout",
     "output_type": "stream",
     "text": [
      "[[False False  True False]\n",
      " [False False  True False]\n",
      " [False False  True False]\n",
      " ..., \n",
      " [False False  True False]\n",
      " [False False  True False]\n",
      " [False False  True False]]\n",
      "[[ 0.  0.  1.  0.]\n",
      " [ 0.  0.  1.  0.]\n",
      " [ 0.  0.  1.  0.]\n",
      " ..., \n",
      " [ 0.  0.  1.  0.]\n",
      " [ 0.  0.  1.  0.]\n",
      " [ 0.  0.  1.  0.]]\n"
     ]
    }
   ],
   "source": [
    "y_pred = classifier.predict(X_test)\n",
    "y_pred = (y_pred > 0.5)\n",
    "print(y_pred)\n",
    "print(y_test)"
   ]
  },
  {
   "cell_type": "markdown",
   "metadata": {},
   "source": [
    "# Creating the Confusion Matrix"
   ]
  },
  {
   "cell_type": "code",
   "execution_count": 14,
   "metadata": {},
   "outputs": [
    {
     "name": "stdout",
     "output_type": "stream",
     "text": [
      "[[1031    7]\n",
      " [  34  312]]\n"
     ]
    }
   ],
   "source": [
    "cm = confusion_matrix(y_test.flatten(), y_pred.flatten())\n",
    "print(cm)"
   ]
  },
  {
   "cell_type": "code",
   "execution_count": 15,
   "metadata": {},
   "outputs": [
    {
     "name": "stdout",
     "output_type": "stream",
     "text": [
      "The accuracy of our model is 97.0 %\n"
     ]
    }
   ],
   "source": [
    "# Accuracy of our model\n",
    "accuracy = (cm[0,0]+cm[1,1]) * 100/ cm.sum()\n",
    "print(\"The accuracy of our model is %2.1f %%\" % accuracy)"
   ]
  }
 ],
 "metadata": {
  "kernelspec": {
   "display_name": "Python 3",
   "language": "python",
   "name": "python3"
  },
  "language_info": {
   "codemirror_mode": {
    "name": "ipython",
    "version": 3
   },
   "file_extension": ".py",
   "mimetype": "text/x-python",
   "name": "python",
   "nbconvert_exporter": "python",
   "pygments_lexer": "ipython3",
   "version": "3.6.4"
  }
 },
 "nbformat": 4,
 "nbformat_minor": 2
}
